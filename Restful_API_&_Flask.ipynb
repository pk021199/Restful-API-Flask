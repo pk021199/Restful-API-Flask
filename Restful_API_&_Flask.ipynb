{
  "nbformat": 4,
  "nbformat_minor": 0,
  "metadata": {
    "colab": {
      "provenance": []
    },
    "kernelspec": {
      "name": "python3",
      "display_name": "Python 3"
    },
    "language_info": {
      "name": "python"
    }
  },
  "cells": [
    {
      "cell_type": "markdown",
      "source": [
        "# Theory Questions."
      ],
      "metadata": {
        "id": "gcPU1vJft06S"
      }
    },
    {
      "cell_type": "markdown",
      "source": [
        "1. What is a RESTful API?\n",
        " - A RESTful API (Representational State Transfer API) is a type of web service that follows the principles of REST architecture. It allows communication between computer systems over the internet using standard HTTP methods. RESTful APIs are designed to be simple, scalable, and stateless.\n",
        "\n",
        "     **Key Concepts of RESTful APIs:**\n",
        "     1. Resources:\n",
        "      * Everything in REST is considered a resource, such as a user, a post, or a product.\n",
        "      * Resources are identified using URIs (e.g., https://api.example.com/users/123).\n",
        "     2. HTTP Methods:\n",
        "\n",
        "      REST uses standard HTTP methods to operate on resources:\n",
        "      * GET – Retrieve a resource.\n",
        "      * POST – Create a new resource.\n",
        "      * PUT – Update/replace an existing resource.\n",
        "      * PATCH – Partially update a resource.\n",
        "      * DELETE – Remove a resource.\n",
        "     3. Statelessness:\n",
        "      * Each request from a client to the server must contain all the information needed to understand and process it.\n",
        "      * The server does not store any client context between requests.\n",
        "     4. JSON or XML Payloads:\n",
        "      * RESTful APIs often use JSON (JavaScript Object Notation) to exchange data, though XML can also be used.\n",
        "     5. HTTP Status Codes:\n",
        "     * Responses include standard HTTP status codes to indicate the result:\n",
        "      * 200 OK – Success\n",
        "      * 201 Created – Resource created\n",
        "      * 400 Bad Request – Client error\n",
        "      * 401 Unauthorized – Authentication failure\n",
        "      * 404 Not Found – Resource not found\n",
        "      * 500 Internal Server Error – Server-side issue\n",
        "     6. Uniform Interface:\n",
        "      * REST emphasizes a consistent, uniform interface, making it easier to understand and use across different APIs.\n",
        "\n",
        "     **Summary**\n",
        "\n",
        "     A RESTful API is:\n",
        "      * Based on HTTP\n",
        "      * Resource-oriented\n",
        "      * Stateless\n",
        "      * Often returns data in JSON\n",
        "      * Designed for scalability and simplicity"
      ],
      "metadata": {
        "id": "-C5tbrUruVRA"
      }
    },
    {
      "cell_type": "markdown",
      "source": [
        "2.  Explain the concept of API specification?\n",
        " - An API specification is a detailed, formal document that describes how an API behaves and how developers should use it. It outlines the structure, endpoints, methods, request/response formats, authentication, and error handling of the API.\n",
        "\n",
        "     Think of it as a blueprint for how to interact with the API — essential for both developers who build the API and those who consume it.\n",
        "\n",
        "     **Key Elements of an API Specification:**\n",
        "      1. Endpoints (URIs):\n",
        "        * Specifies the URL paths where resources can be accessed.\n",
        "        * Example: /users, /products/{id}\n",
        "      2. HTTP Methods:\n",
        "        * Describes what operations are allowed on each endpoint (GET, POST, PUT, DELETE, etc.).\n",
        "      3. Request Parameters:\n",
        "        * Lists required or optional parameters (e.g., query strings, path variables, headers).\n",
        "      4. Request Body:\n",
        "        * Defines the structure of data expected in POST/PUT requests, often in JSON or XML.\n",
        "      5. Response Format:\n",
        "        * Details the structure of the data returned (e.g., JSON objects, arrays, fields, data types).\n",
        "      6. Status Codes:\n",
        "        * Enumerates possible HTTP response codes and their meanings.\n",
        "        * Example: 200 OK, 404 Not Found, 500 Internal Server Error.\n",
        "      7. Authentication Requirements:\n",
        "        * Describes how clients should authenticate (e.g., API keys, OAuth tokens).\n",
        "      8. Error Messages:\n",
        "        * Lists possible error messages and codes for different failure scenarios.\n",
        "      9. Rate Limiting and Throttling (if applicable):\n",
        "        * Specifies how often the API can be called (e.g., 1000 requests per hour).\n",
        "\n",
        "     **Common Formats for API Specifications:**\n",
        "        * OpenAPI Specification (formerly Swagger) – the most widely used standard for RESTful APIs.\n",
        "        * RAML (RESTful API Modeling Language) – a YAML-based modeling language.\n",
        "        * API Blueprint – a markdown-based format for describing APIs.\n",
        "        * GraphQL Schema – for GraphQL APIs, it defines the types, queries, and mutations.\n",
        "\n",
        "     **Why API Specifications Matter:**\n",
        "        * Consistency: Ensures all developers understand how the API behaves.\n",
        "        * Automation: Allows for automatic code generation, testing, and documentation.\n",
        "        * Collaboration: Helps frontend and backend teams work in parallel.\n",
        "        * Validation: Makes it easier to test if the API meets its contract.\n",
        "\n",
        "     **Summary**\n",
        "     \n",
        "     An API specification is a formal, detailed document that defines how an API works. It serves as both technical documentation and a contract between the API provider and consumer, ensuring consistency, clarity, and interoperability."
      ],
      "metadata": {
        "id": "WU3JK7yYwCom"
      }
    },
    {
      "cell_type": "markdown",
      "source": [
        "3. What is Flask, and why is it popular for building APIs?\n",
        " - Flask is a lightweight, open-source web framework written in Python. It is designed to help developers build web applications and RESTful APIs quickly and easily. Flask follows the WSGI (Web Server Gateway Interface) standard and is known for its minimalist and flexible design.\n",
        "\n",
        "     **Core Features of Flask:**\n",
        "     * Minimal & Modular: Flask comes with only the essentials, letting developers choose and add components as needed.\n",
        "     * Built-in Development Server and debugger.\n",
        "     * Routing system using decorators (@app.route).\n",
        "     * Supports RESTful request handling (GET, POST, PUT, DELETE, etc.).\n",
        "     * Jinja2 templating engine for rendering HTML (if needed).\n",
        "     * Extensions for adding database support, authentication, input validation, etc.\n",
        "\n",
        "     **Why is Flask Popular for Building APIs?**\n",
        "     1. Simplicity & Minimalism:\n",
        "       * Easy to learn, with clean and concise code.\n",
        "       * Ideal for beginners and small to medium-sized applications.\n",
        "     2. Flexibility:\n",
        "       * Doesn’t enforce a specific project structure or tools.\n",
        "       * You can plug in only what you need (e.g., SQLAlchemy for database, Marshmallow for serialization).\n",
        "     3. Quick Prototyping:\n",
        "       * Perfect for building and testing APIs quickly, especially in the early stages of development.\n",
        "     4. Rich Ecosystem of Extensions:\n",
        "       * Available extensions for security (Flask-JWT), forms (WTForms), and database integration (Flask-SQLAlchemy).\n",
        "     5. Strong Community Support:\n",
        "       * Large user base, lots of tutorials, Stack Overflow help, and active maintenance.\n",
        "     6. Good Integration with RESTful Design:\n",
        "       * Flask makes it easy to map HTTP verbs to Python functions, making it natural for building REST APIs.\n",
        "\n",
        "     **Summary**\n",
        "\n",
        "     Flask is a lightweight Python web framework that is especially popular for building RESTful APIs due to its:\n",
        "     * Simplicity\n",
        "     * Flexibility\n",
        "     * Rich extension ecosystem\n",
        "     * Rapid development capabilities\n"
      ],
      "metadata": {
        "id": "QqkgzRyRxk3v"
      }
    },
    {
      "cell_type": "markdown",
      "source": [
        "4. What is routing in Flask?\n",
        " - Routing in Flask refers to the process of mapping URLs (routes) to functions in your Python code, which handle the logic for that specific endpoint.\n",
        "\n",
        "     In simpler terms, routing connects a web address (like /home or /api/data) to a Python function, so that when a user accesses that address, the associated function runs and returns a response (like HTML, JSON, or text).\n",
        "\n",
        "     **How Does Routing Work in Flask?**\n",
        "\n",
        "     Flask uses decorators to define routes. A decorator like @app.route() tells Flask:\n",
        "\n",
        "     **Routing with HTTP Methods**\n",
        "\n",
        "     You can also specify which HTTP methods a route supports (GET, POST, etc.):\n",
        "\n",
        "     **Variable Rules in Routes**\n",
        "\n",
        "     Flask allows dynamic routing by using placeholders:\n",
        "\n",
        "     **Summary**\n",
        "\n",
        "     Routing in Flask is the mechanism that:\n",
        "      * Connects URLs to Python functions\n",
        "      * Handles dynamic paths and HTTP methods\n",
        "      * Allows you to build web pages and APIs that respond to specific requests\n",
        "      \n",
        "     It’s one of the core features that makes Flask simple yet powerful for web development."
      ],
      "metadata": {
        "id": "9SSIqutZyilA"
      }
    },
    {
      "cell_type": "markdown",
      "source": [
        "5. How do you create a simple Flask application?\n",
        " - Creating a simple Flask application involves just a few lines of Python code. Flask is designed to be lightweight and beginner-friendly, so you can get a basic app running very quickly.\n",
        "\n",
        "     **Steps to Create a Simple Flask App**\n",
        "     1. Install Flask\n",
        "      * If you haven’t already, install Flask using pip:\n",
        "     2. Write the Application Code\n",
        "     3. Run the Application\n",
        "      * In your terminal, navigate to the directory containing app.py, and run:\n",
        "\n",
        "     **Key Concepts in the Example:**\n",
        "     * Flask(__name__): Creates the application instance.\n",
        "     * @app.route('/'): Maps the root URL (/) to the home() function.\n",
        "     * app.run(debug=True): Starts a development server and enables debugging.\n",
        "\n",
        "     **Summary**\n",
        "\n",
        "     To create a simple Flask app:\n",
        "     1. Install Flask\n",
        "     2. Write minimal Python code using Flask and @app.route()\n",
        "     3. Run it with python app.py\n",
        "     4. Access it in your browser\n",
        "     \n",
        "     This basic structure is the foundation for building more complex web apps and APIs in Flask."
      ],
      "metadata": {
        "id": "fTmOmim8zfHd"
      }
    },
    {
      "cell_type": "markdown",
      "source": [
        "6. What are HTTP methods used in RESTful APIs?\n",
        " - In RESTful APIs, HTTP methods (also called HTTP verbs) are used to perform actions on resources (like users, posts, or products). Each method represents a specific type of operation and aligns with CRUD (Create, Read, Update, Delete) operations.\n",
        "\n",
        "     **Explanation of Each Method:**\n",
        "     1. GET\n",
        "       * Purpose: Fetch data from the server.\n",
        "       * Example: GET /users/123 → Fetch user with ID 123.\n",
        "       * Safe: Yes (does not modify data).\n",
        "       * Idempotent: Yes (same request, same result).\n",
        "     2. POST\n",
        "       * Purpose: Send data to create a new resource.\n",
        "       * Example: POST /users → Create a new user with submitted details.\n",
        "       * Safe: No.\n",
        "       * Idempotent: No (multiple requests create multiple resources).\n",
        "     3. PUT\n",
        "       * Purpose: Replace an existing resource completely.\n",
        "       * Example: PUT /users/123 → Replace user 123's data.\n",
        "       * Safe: No.\n",
        "       * Idempotent: Yes (same request produces the same effect).\n",
        "     4. PATCH\n",
        "       * Purpose: Update part of a resource.\n",
        "       * Example: PATCH /users/123 with {\"email\": \"new@example.com\"}.\n",
        "       * Safe: No.\n",
        "       * Idempotent: Yes (if repeated with same data, result stays the same).\n",
        "     5. DELETE\n",
        "       * Purpose: Delete a resource.\n",
        "       * Example: DELETE /users/123 → Removes user 123.\n",
        "       * Safe: No.\n",
        "       * Idempotent: Yes (repeating delete has the same outcome).\n",
        "       "
      ],
      "metadata": {
        "id": "RAiMfKG90bBp"
      }
    },
    {
      "cell_type": "markdown",
      "source": [
        "7. What is the purpose of the @app.route() decorator in Flask?\n",
        " - The @app.route() decorator in Flask is used to associate a URL path with a specific function, known as a view function. This allows the web application to respond to HTTP requests at that URL.\n",
        "\n",
        "     **Purpose:**\n",
        "     * Defines a route (URL endpoint) in the web application.\n",
        "     * Maps that route to a Python function that handles the request.\n",
        "     * Enables Flask to know which code to execute when a client visits a specific URL.\n",
        "\n",
        "     **Key Features of @app.route():**\n",
        "     * Supports static routes (e.g., /about)\n",
        "     * Supports dynamic routes (e.g., /user/<username>)\n",
        "     * Allows specifying HTTP methods (GET, POST, etc.)\n",
        "\n",
        "     **Summary:**\n",
        "\n",
        "     The @app.route() decorator in Flask:\n",
        "     * Creates URL routes\n",
        "     * Connects URLs to Python functions\n",
        "     * Allows the application to handle web requests and return responses"
      ],
      "metadata": {
        "id": "qAl9OAov1Z7E"
      }
    },
    {
      "cell_type": "markdown",
      "source": [
        "8. What is the difference between GET and POST HTTP methods?\n",
        " - GET and POST are two of the most commonly used HTTP methods in web development and RESTful APIs. Both are used to communicate with the server, but they serve different purposes and behave differently.\n",
        "\n",
        "     **Comparison Table**\n",
        "\n",
        "     Feature\t                GET\t                          POST\n",
        "\n",
        "     Purpose\t        Retrieve data from the server\t      Send data to the server to create a resource\n",
        "      \n",
        "     Data Visibility\tData is sent in the URL (query string)\tData is sent in the request body\n",
        "\n",
        "     Use Case\t       Reading/fetching data\t            Submitting forms, creating new resources\n",
        "\n",
        "     Caching\t        Can be cached by browsers\t       Not cached by default\n",
        "\n",
        "     Idempotent\t    Yes (repeating the request has no effect)\t No (repeating may create duplicate entries)\n",
        "\n",
        "     Bookmarkable\t  Yes (because data is in the URL)\t  No\n",
        "       \n",
        "     Security\t      Less secure for sensitive data (in URL) \tMore secure (data in body, not logged in URL)\n",
        "\n",
        "     **Summary**\n",
        "     \n",
        "     In RESTful APIs:\n",
        "     * Use GET to read resources.\n",
        "     * Use POST to create new resources.\n"
      ],
      "metadata": {
        "id": "vAAabpBV2AYT"
      }
    },
    {
      "cell_type": "markdown",
      "source": [
        "9. How do you handle errors in Flask APIs?\n",
        " - In Flask APIs, error handling is the process of catching exceptions or unexpected conditions and returning appropriate HTTP responses (like 400 Bad Request or 404 Not Found). Proper error handling improves the reliability, usability, and security of your API.\n",
        "\n",
        "     **Common Ways to Handle Errors in Flask:**\n",
        "      1. Using abort() Function\n",
        "        * Flask provides the abort() function to return standard HTTP error codes.\n",
        "      2. Custom Error Handlers with @app.errorhandler\n",
        "        * You can define custom responses for specific error codes.\n",
        "      3. Try-Except Blocks for Custom Exceptions\n",
        "        * You can catch exceptions during execution and return meaningful responses.\n",
        "      4. Returning Custom HTTP Status Codes\n",
        "        * You can manually return an error message and status code from any view.\n",
        "\n",
        "     **Summary**\n",
        "\n",
        "     In Flask APIs, you handle errors by:\n",
        "      * Using abort() to raise standard errors\n",
        "      * Creating @app.errorhandler functions for custom responses\n",
        "      * Using try-except blocks for runtime exceptions\n",
        "      * Returning appropriate status codes with responses\n",
        "     \n",
        "     Proper error handling makes your API more robust, user-friendly, and easier to debug."
      ],
      "metadata": {
        "id": "d-qcdfmE3NIN"
      }
    },
    {
      "cell_type": "markdown",
      "source": [
        "10. How do you connect Flask to a SQL database?\n",
        " - To connect Flask to a SQL database, you typically use an ORM (Object-Relational Mapper) like SQLAlchemy or use raw SQL via a database driver. The most common and powerful method is using Flask-SQLAlchemy, which integrates SQLAlchemy with Flask.\n",
        "\n",
        "     **Steps to Connect Flask to a SQL Database (Using Flask-SQLAlchemy)**\n",
        "     1. Install Flask-SQLAlchemy\n",
        "     2. Configure the Database in Your Flask App\n",
        "       * In your app.py or main script:\n",
        "     3. Define a Model (Table Schema)\n",
        "     4. Create the Database and Tables\n",
        "     5. Add or Query Data\n",
        "\n",
        "     **Why Use SQLAlchemy?**\n",
        "     * Avoids writing raw SQL\n",
        "     * Simplifies table relationships\n",
        "     * Provides a clean Python interface\n",
        "     * Works with multiple SQL databases (SQLite, MySQL, PostgreSQL, etc.)\n",
        "     "
      ],
      "metadata": {
        "id": "3u4FI8jV365a"
      }
    },
    {
      "cell_type": "markdown",
      "source": [
        "11. What is the role of Flask-SQLAlchemy?\n",
        " - Flask-SQLAlchemy is an extension for Flask that integrates SQLAlchemy, a powerful Object-Relational Mapper (ORM), into Flask applications. It simplifies the process of connecting Flask to SQL databases and managing database operations using Python code instead of raw SQL.\n",
        "\n",
        "     **Primary Roles of Flask-SQLAlchemy:**\n",
        "      1. Simplifies Database Integration\n",
        "     \n",
        "     It provides an easy way to connect your Flask app to databases like SQLite, MySQL, or PostgreSQL using SQLAlchemy.\n",
        "\n",
        "      2. Enables Object-Relational Mapping (ORM)\n",
        "     \n",
        "     It allows you to interact with database tables as Python classes and objects, making the code more readable and maintainable.\n",
        "      3. Manages Database Sessions\n",
        "     \n",
        "     It handles transactions and sessions through db.session, so you can add, update, or delete records cleanly.\n",
        "\n",
        "      4. Schema Definition and Migration\n",
        "     \n",
        "     Lets you define the database schema using Python classes and supports integration with migration tools like Flask-Migrate.\n",
        "\n",
        "      5. Works Seamlessly with Flask App Context\n",
        "     \n",
        "     Automatically integrates with Flask’s application context and configuration system.\n",
        "\n",
        "     **Benefits of Using Flask-SQLAlchemy:**\n",
        "     * Easy configuration of database connections\n",
        "     * Eliminates most raw SQL queries\n",
        "     * Cleaner, more Pythonic code\n",
        "     * Supports relationships between models (foreign keys, joins)\n",
        "     * Works well with Flask ecosystem tools (Flask-Migrate, Flask-Admin)\n",
        "\n",
        "     **Summary**\n",
        "\n",
        "     Flask-SQLAlchemy:\n",
        "     * Is a bridge between Flask and SQLAlchemy\n",
        "     * Lets you define database models as Python classes\n",
        "     * Handles database connections, sessions, and transactions\n",
        "     * Makes database interaction in Flask apps easier, cleaner, and more powerful"
      ],
      "metadata": {
        "id": "cFq_jlVS4iTW"
      }
    },
    {
      "cell_type": "markdown",
      "source": [
        "12. What are Flask blueprints, and how are they useful?\n",
        " - Flask Blueprints are a way to organize your Flask application into smaller, reusable, and modular components. They allow you to group routes, templates, static files, and other code into distinct sections (or modules) of your app.\n",
        "\n",
        "     Think of blueprints as mini Flask apps that can be registered on the main Flask application.\n",
        "\n",
        "     **Why Use Blueprints?**\n",
        "     1. Modularity\n",
        "     \n",
        "     Break down a large application into manageable parts. For example, you can separate user authentication, blog posts, and admin features into different blueprints.\n",
        "     2. Reusability\n",
        "     \n",
        "     You can reuse blueprints across different projects or share them with other developers.\n",
        "     3. Collaboration\n",
        "     \n",
        "     Teams can work on different blueprints independently without interfering with each other's code.\n",
        "     4. Cleaner Structure\n",
        "     \n",
        "     Avoid a cluttered app.py by splitting routes and logic into multiple files or packages.\n",
        "\n",
        "     **How Do Blueprints Work?**\n",
        "     * You define a blueprint with its own routes and views.\n",
        "     * Register the blueprint with the main Flask app.\n",
        "     * URLs and static/template folders can be namespaced or prefixed.\n",
        "     \n",
        "     **Summary**\n",
        "     \n",
        "     Flask Blueprints:\n",
        "     * Organize code into modular components\n",
        "     * Help manage large applications easily\n",
        "     * Promote code reuse and better team collaboration\n",
        "     * Make your Flask project scalable and maintainable\n"
      ],
      "metadata": {
        "id": "CsiawYR75WpW"
      }
    },
    {
      "cell_type": "markdown",
      "source": [
        "13. What is the purpose of Flask's request object?\n",
        "- The request object in Flask represents the incoming HTTP request from a client (like a browser or API consumer). It provides access to all the data sent by the client as part of that request.\n",
        "\n",
        "     **Key Purposes of Flask’s request Object:**\n",
        "    1. Access Request Data\n",
        "      \n",
        "      Retrieve form data, query parameters, JSON payloads, and more.\n",
        "    2. Inspect Request Metadata\n",
        "      \n",
        "      Get information like HTTP method (GET, POST), headers, cookies, and URL.\n",
        "    3. Work with Uploaded Files\n",
        "      \n",
        "      Access files sent in the request (e.g., images, documents).\n",
        "\n",
        "  **Summary**\n",
        "\n",
        "  The Flask request object is your gateway to:\n",
        "    * Accessing everything the client sends in an HTTP request\n",
        "    * Handling user input, API payloads, and file uploads\n",
        "    * Making decisions based on request metadata like method or headers\n",
        "     \n",
        "  It is essential for building interactive and data-driven Flask applications."
      ],
      "metadata": {
        "id": "5NfRw1lZ6Gkr"
      }
    },
    {
      "cell_type": "markdown",
      "source": [
        "14.  How do you create a RESTful API endpoint using Flask?\n",
        " - Creating a RESTful API endpoint in Flask involves defining a route that responds to HTTP methods (like GET, POST) and returns data in a structured format (usually JSON).\n",
        "\n",
        "     **Key Steps:**\n",
        "     1. Import Flask and necessary modules\n",
        "     2. Create a Flask app instance\n",
        "     3. Define a route with @app.route()\n",
        "     4. Handle HTTP methods inside the view function\n",
        "     5. Return JSON responses using jsonify\n",
        "\n",
        "     **Explanation:**\n",
        "        * Route: /users is the endpoint URL.\n",
        "        * Methods: Supports GET (read users) and POST (create user).\n",
        "        * jsonify: Converts Python dictionaries/lists to JSON responses.\n",
        "        * Request handling: Uses request.get_json() to parse incoming JSON data.\n",
        "        * Status codes: Returns 201 Created after successful POST.\n",
        "\n",
        "     **Summary**\n",
        "\n",
        "     To create a RESTful API endpoint in Flask:\n",
        "       * Use @app.route() with relevant URL and HTTP methods.\n",
        "       * Parse incoming data via request.\n",
        "       * Return JSON data using jsonify.\n",
        "       * Handle different HTTP methods (GET, POST, PUT, DELETE) according to REST principles."
      ],
      "metadata": {
        "id": "y04hKT5n64Vf"
      }
    },
    {
      "cell_type": "markdown",
      "source": [
        "15. What is the purpose of Flask's jsonify() function?\n",
        " - The jsonify() function in Flask is used to convert Python data structures (like dictionaries or lists) into a JSON-formatted HTTP response.\n",
        "\n",
        "     **Key Purposes of jsonify():**\n",
        "     1. Convert Python objects to JSON\n",
        "      \n",
        "       Automatically serializes Python dictionaries, lists, and other serializable objects to JSON.\n",
        "     2. Set the correct Content-Type header\n",
        "       \n",
        "       The response will have the header Content-Type: application/json, which tells clients that the response body is JSON.\n",
        "     3. Create a proper Flask Response object\n",
        "       \n",
        "       Returns a Flask Response object that is ready to be sent to the client.\n",
        "\n",
        "     **Why Use jsonify() Instead of json.dumps()?**\n",
        "       * jsonify() handles response headers automatically.\n",
        "       * It works seamlessly with Flask’s request-response cycle.\n",
        "       * It supports multiple arguments and keyword arguments for convenient JSON responses.\n",
        "\n",
        "     **Summary**\n",
        "\n",
        "     The jsonify() function is essential in Flask APIs to:\n",
        "      * Convert Python data to JSON\n",
        "      * Send JSON responses with correct headers\n",
        "      * Simplify API response creation"
      ],
      "metadata": {
        "id": "yoR92GOU7pg6"
      }
    },
    {
      "cell_type": "markdown",
      "source": [
        "16.  Explain Flask’s url_for() functionM?\n",
        " - The url_for() function in Flask is used to generate URLs dynamically for routes defined in your application. Instead of hardcoding URLs, you use url_for() to build URLs based on the name of the view function.\n",
        "\n",
        "      **Purpose of url_for():**\n",
        "        * Generate URLs dynamically so that changes in route definitions don’t break your app.\n",
        "        * Avoid hardcoding URLs, improving maintainability.\n",
        "        * Helps in linking between different routes, including those with dynamic parameters.\n",
        "        * Works well with different HTTP methods and blueprints.\n",
        "\n",
        "      **How It Works:**\n",
        "        * You provide the endpoint name (usually the name of the view function).\n",
        "        * Optionally, provide arguments for dynamic parts of the URL.\n",
        "        * Flask returns the correct URL string.\n",
        "      **Why Use url_for()?**\n",
        "        * If the route changes (e.g., from /user/<username> to /member/<username>), you only need to update the route once.\n",
        "        * It helps generate absolute or relative URLs, including query strings.\n",
        "        * Makes your code cleaner and more flexible.\n",
        "\n",
        "      **Summary**\n",
        "      \n",
        "      url_for() is a Flask utility function that:\n",
        "        * Creates URLs from route endpoint names\n",
        "        * Accepts parameters for dynamic routes\n",
        "        * Prevents hardcoding URLs, making apps easier to maintain"
      ],
      "metadata": {
        "id": "sItIZG3t8T8a"
      }
    },
    {
      "cell_type": "markdown",
      "source": [
        "17. How does Flask handle static files (CSS, JavaScript, etc.)?\n",
        " - In Flask, static files such as CSS, JavaScript, images, and other assets are handled using a special folder called static/.\n",
        "  \n",
        "     **Default Structure:**\n",
        "\n",
        "     /your_project\n",
        "│\n",
        "├── app.py\n",
        "├── static/\n",
        "│   ├── style.css\n",
        "│   ├── script.js\n",
        "├── templates/\n",
        "    └── index.html\n",
        "\n",
        "     * Flask automatically serves files placed inside the static/ folder.\n",
        "     * You don’t need to define routes for static files — Flask handles them for you.\n",
        "\n",
        "     **Summary**\n",
        "     * Flask serves static files from the static/ directory by default.\n",
        "     * Use url_for('static', filename='...') to safely reference static assets in templates.\n",
        "     * No need to define separate routes — Flask handles static file routing internally."
      ],
      "metadata": {
        "id": "zB0DHqPQ9C2Q"
      }
    },
    {
      "cell_type": "markdown",
      "source": [
        "18. What is an API specification, and how does it help in building a Flask API?\n",
        " - An API specification is a formal, structured description of how an API works. It defines the endpoints, request/response formats, parameters, data types, and authentication methods of the API.\n",
        "\n",
        "     It acts like a blueprint or contract between the API developer and the API consumer (e.g., frontend developers, third-party users).\n",
        "\n",
        "     **Common Formats of API Specifications:**\n",
        "      * OpenAPI (Swagger) – Most widely used\n",
        "      * RAML (RESTful API Modeling Language)\n",
        "      * API Blueprint\n",
        "     \n",
        "     **How It Helps in Building a Flask API**\n",
        "     1. Clear Design Before Coding\n",
        "        \n",
        "        You can plan your API routes, inputs, and outputs before writing any code.\n",
        "     2. Consistency\n",
        "        \n",
        "        Ensures consistent naming, data formats, and status codes across your API.\n",
        "     3. Communication Tool\n",
        "        \n",
        "        Acts as a shared reference for teams (backend, frontend, QA).\n",
        "     4. Validation\n",
        "        \n",
        "        Tools can automatically validate requests and responses against the spec.\n",
        "     5. Documentation Generation\n",
        "        \n",
        "        Tools like Swagger UI can auto-generate interactive API docs from a spec.\n",
        "     6. Client SDK Generation\n",
        "        \n",
        "        You can generate client libraries (in JavaScript, Python, etc.) from the spec.\n",
        "\n",
        "     **Flask Integration Example:**\n",
        "       * Flask-RESTX and Flask-Smorest support building APIs based on OpenAPI specs.\n",
        "       * These tools let you define specs using decorators or YAML/JSON files and automatically generate documentation.\n",
        "    \n",
        "     **Summary**\n",
        "      \n",
        "      An API specification is a detailed plan that defines how your API behaves.\n",
        "      \n",
        "      In Flask, it helps by:\n",
        "      * Guiding API design\n",
        "      * Reducing errors\n",
        "      * Improving collaboration\n",
        "      * Enabling automatic docs and validation\n",
        "\n"
      ],
      "metadata": {
        "id": "ifLA0FAK9iUo"
      }
    },
    {
      "cell_type": "markdown",
      "source": [
        "19. What are HTTP status codes, and why are they important in a Flask API?\n",
        " - HTTP status codes are 3-digit numeric codes returned by a web server (like a Flask API) to indicate the result of a client’s request. They are part of the HTTP response and help clients understand whether the request was successful, failed, or needs correction.\n",
        "\n",
        "     **Why Are Status Codes Important in a Flask API?**\n",
        "      1. Communicate Outcome Clearly\n",
        "        \n",
        "        Let the client know what happened — success, error, or redirection.\n",
        "      2. Enable Error Handling on the Client Side\n",
        "        \n",
        "        Clients (like frontend apps or other services) can act appropriately based on the code (e.g., retry on 500, redirect on 301, prompt login on 401).\n",
        "      3. Improve Debugging and Logging\n",
        "        \n",
        "        Helps developers quickly diagnose problems with precise feedback.\n",
        "      4. Follow RESTful Standards\n",
        "         \n",
        "        RESTful APIs are expected to use proper status codes to indicate outcomes.\n",
        "\n",
        "     **Summary**\n",
        "     \n",
        "     HTTP status codes are essential for:\n",
        "      * Signaling success or failure of API requests\n",
        "      * Enabling proper client-side handling\n",
        "      * Building clear and professional APIs\n",
        "   \n",
        "   In Flask, always return the appropriate status code with your JSON response to make your API robust and RESTful."
      ],
      "metadata": {
        "id": "5U-tQxj6-p4c"
      }
    },
    {
      "cell_type": "markdown",
      "source": [
        "20.  How do you handle POST requests in Flask?\n",
        "- A POST request is an HTTP method used to send data to the server, typically to create or update a resource. In Flask, handling a POST request means writing logic that receives and processes the data sent from the client (like form data or JSON).\n",
        "\n",
        "     **Steps to Handle POST Requests in Flask:**\n",
        "     1. Define a Route with methods=['POST']\n",
        "     2. Access Incoming Data\n",
        "       \n",
        "       Flask provides the request object (from flask module) to access data sent in a POST request:\n",
        "\n",
        "     **Summary**\n",
        "\n",
        "     To handle POST requests in Flask:\n",
        "     Step\t                                        Description\n",
        "     Use @app.route()\t                  Define route with methods=['POST']\n",
        "     Use request.form                  \tFor form data (HTML forms)\n",
        "     Use request.get_json()\t      For JSON payloads (APIs or JavaScript clients)\n",
        "     Return a response\t          Usually JSON or a message with a status code"
      ],
      "metadata": {
        "id": "o8UjlzpY_Mon"
      }
    },
    {
      "cell_type": "markdown",
      "source": [
        "21. How would you secure a Flask API?\n",
        " - Securing a Flask API is critical to protect data, users, and server resources from unauthorized access, misuse, or attacks. Flask provides flexibility to implement various security layers depending on your API's requirements.\n",
        "\n",
        "     **Key Strategies to Secure a Flask API:**\n",
        "     1. Authentication\n",
        "       \n",
        "       Verify the identity of users or systems making requests.\n",
        "       * Token-based Authentication (e.g., JWT — JSON Web Tokens)\n",
        "       * API Keys\n",
        "       * OAuth2 (for third-party login or delegated access)\n",
        "     2. Authorization\n",
        "       \n",
        "       Control what authenticated users can do.\n",
        "       * Implement role-based access control (RBAC)\n",
        "       * Check permissions in protected routes\n",
        "     3. Input Validation & Sanitization\n",
        "       \n",
        "       Protect against injection attacks (e.g., SQL injection, XSS).\n",
        "       * Use libraries like marshmallow, pydantic, or Flask-WTF\n",
        "       * Always validate and sanitize input from users\n",
        "     4. Use HTTPS\n",
        "       \n",
        "       Encrypt data in transit using SSL/TLS.\n",
        "       * Prevents data sniffing and man-in-the-middle attacks\n",
        "       * Always deploy APIs behind HTTPS in production\n",
        "     5. Rate Limiting\n",
        "       \n",
        "       Prevent abuse and denial-of-service (DoS) attacks.\n",
        "       * Use extensions like Flask-Limiter\n",
        "       * Limit the number of requests per user/IP per time window\n",
        "     6. Error Handling\n",
        "       \n",
        "       Avoid exposing internal logic or stack traces.\n",
        "       * Use custom error messages for client-side errors (e.g., 400, 404)\n",
        "       * Return generic messages for server errors (500)\n",
        "     7. CORS Protection\n",
        "       \n",
        "       Enable CORS (Cross-Origin Resource Sharing) properly if your API is accessed from browsers.\n",
        "       * Use Flask-CORS extension to configure allowed origins and methods.\n",
        "     8. Secure Cookies & Sessions\n",
        "        \n",
        "        If using sessions:\n",
        "       * Use secure, httponly, and samesite flags on cookies\n",
        "       * Avoid storing sensitive data in cookies\n",
        "\n",
        "     9. Logging and Monitoring\n",
        "       * Log suspicious activity\n",
        "       * Monitor access patterns for unusual behavior\n",
        "     10. Keep Dependencies Updated\n",
        "       * Regularly update Flask and all related packages\n",
        "       * Use virtual environments to isolate dependencies"
      ],
      "metadata": {
        "id": "05bDiAHE_5UP"
      }
    },
    {
      "cell_type": "markdown",
      "source": [
        "22. What is the significance of the Flask-RESTful extension?\n",
        " - Flask-RESTful is an extension for Flask that helps you build RESTful APIs more quickly and with cleaner code. It builds on top of Flask by adding support for:\n",
        "     * resource-based routing\n",
        "     * request parsing\n",
        "     * automatic HTTP method handling\n",
        "\n",
        "     It simplifies many common patterns used in REST API development.\n",
        "\n",
        "     **Significance and Benefits of Flask-RESTful:**\n",
        "     1. Resource-Based Design\n",
        "       \n",
        "       Instead of defining API endpoints as regular view functions, Flask-RESTful organizes them as classes called resources, which align with REST principles.\n",
        "     2. Cleaner Routing with api.add_resource()\n",
        "       \n",
        "       Routes are connected to resources in a clean, centralized way:\n",
        "     3. Built-in HTTP Method Handling\n",
        "       \n",
        "       Each HTTP method (GET, POST, PUT, DELETE, etc.) is implemented as a method in the resource class:\n",
        "     4. Automatic Status Codes\n",
        "       \n",
        "       You can return data and status codes easily:\n",
        "     5. Request Parsing with reqparse\n",
        "       \n",
        "       Flask-RESTful includes a lightweight parser for validating and extracting request data:\n",
        "\n",
        "     **Conclusion**\n",
        "     \n",
        "     Flask-RESTful streamlines the process of building REST APIs by providing:\n",
        "     * a structured framework,\n",
        "     * reusable components,\n",
        "     * and fewer lines of boilerplate code.\n",
        "     \n",
        "     It's ideal for developers looking to write cleaner, scalable, and REST-compliant Flask APIs."
      ],
      "metadata": {
        "id": "GxWEE-G6BDxs"
      }
    },
    {
      "cell_type": "markdown",
      "source": [
        "23. What is the role of Flask’s session object?\n",
        "- The session object in Flask is used to store data across multiple requests for a particular user session. It allows you to keep track of user-specific information (like login status or preferences) as they navigate your application.\n",
        "\n",
        "     It behaves like a Python dictionary, but the data is stored securely in a cookie that is signed (not encrypted) to prevent tampering.\n",
        "\n",
        "     **Purpose and Role of session in Flask:**\n",
        "     Role\t                  Description\n",
        "\n",
        "     Session Management\t    Track user activity between requests (e.g., login sessions)\n",
        "\n",
        "     Secure Client Storage\tStores data on the client in a signed cookie (can’t be modified by user)\n",
        "\n",
        "     User Preferences\t      Store things like theme settings, language choice, etc.\n",
        "\n",
        "     Navigation State\t      Maintain context between pages (e.g., shopping cart, quiz progress)\n",
        "\n",
        "     **Is It Secure?**\n",
        "      * Flask signs session cookies using secret_key, so the client cannot tamper with the data.\n",
        "      * However, the data is visible to the client — so do not store sensitive information like passwords or personal data.\n",
        "\n",
        "      **Summary**\n",
        "     \n",
        "     Flask’s session object is used to:\n",
        "     * Preserve user data between HTTP requests\n",
        "     * Manage login sessions and user-specific context\n",
        "     * Store small, non-sensitive data in signed cookies\n",
        "\n"
      ],
      "metadata": {
        "id": "agy5BULuB12_"
      }
    },
    {
      "cell_type": "markdown",
      "source": [
        "# Practical Questions."
      ],
      "metadata": {
        "id": "lIVk1mXRFt2h"
      }
    },
    {
      "cell_type": "markdown",
      "source": [
        "1.  How do you create a basic Flask application?"
      ],
      "metadata": {
        "id": "HOKBewwEF0sX"
      }
    },
    {
      "cell_type": "code",
      "execution_count": 2,
      "metadata": {
        "id": "CQ61FdBCtlBk"
      },
      "outputs": [],
      "source": [
        "# pip install flask"
      ]
    },
    {
      "cell_type": "code",
      "source": [
        "from flask import Flask\n",
        "\n",
        "app = Flask(__name__)  # Create the Flask app instance\n",
        "\n",
        "@app.route('/')  # Define a route for the home page\n",
        "def home():\n",
        "    return \"Hello, Flask! This is your first app.\"\n",
        "\n",
        "if __name__ == '__main__':\n",
        "    app.run(debug=True)  # Start the Flask development server"
      ],
      "metadata": {
        "id": "_P_dPDaiGClv"
      },
      "execution_count": 4,
      "outputs": []
    },
    {
      "cell_type": "markdown",
      "source": [
        "2. How do you serve static files like images or CSS in Flask?"
      ],
      "metadata": {
        "id": "90c3glB0HPB7"
      }
    },
    {
      "cell_type": "code",
      "source": [
        "from flask import Flask, send_from_directory\n",
        "\n",
        "app = Flask(__name__)\n",
        "\n",
        "@app.route('/static/<path:filename>')\n",
        "def serve_static(filename):\n",
        "    return send_from_directory('static', filename)\n",
        "    if __name__ == '__main__':"
      ],
      "metadata": {
        "id": "TnKDWyFHGx7Q"
      },
      "execution_count": null,
      "outputs": []
    },
    {
      "cell_type": "markdown",
      "source": [
        "3. How do you define different routes with different HTTP methods in Flask?"
      ],
      "metadata": {
        "id": "Xd0teQX4IfHY"
      }
    },
    {
      "cell_type": "code",
      "source": [
        "from flask import Flask, request\n",
        "from flask import Flask, request\n",
        "\n",
        "app = Flask(__name__)\n",
        "\n",
        "@app.route('/submit', methods=['GET', 'POST'])\n",
        "def submit():\n",
        "    if request.method == 'POST':\n",
        "        return \"Form submitted via POST\"\n",
        "    else:\n",
        "        return \"This is the GET request form page\"\n"
      ],
      "metadata": {
        "id": "3te4k4rVH1tj"
      },
      "execution_count": 12,
      "outputs": []
    },
    {
      "cell_type": "markdown",
      "source": [
        "4. How do you render HTML templates in Flask?"
      ],
      "metadata": {
        "id": "8gzonlP5I4kC"
      }
    },
    {
      "cell_type": "code",
      "source": [
        "#How do you render HTML templates in Flask\n",
        "from flask import Flask, render_template\n",
        "\n",
        "app = Flask(__name__)\n",
        "\n",
        "@app.route('/')\n",
        "def index():\n",
        "    return render_template('index.html')\n",
        "if __name__ == '__main__':\n",
        "    app.run(debug=True)\n",
        "@app.route('/greet/<name>')\n",
        "def greet(name):\n",
        "    return render_template('index.html', user=name)\n"
      ],
      "metadata": {
        "id": "XPPbYPnTIzpx"
      },
      "execution_count": 13,
      "outputs": []
    },
    {
      "cell_type": "markdown",
      "source": [
        "5. How can you generate URLs for routes in Flask using url_for?"
      ],
      "metadata": {
        "id": "VZq9bgUiJcIm"
      }
    },
    {
      "cell_type": "code",
      "source": [
        "from flask import Flask, url_for\n",
        "\n",
        "app = Flask(__name__)\n",
        "\n",
        "@app.route('/home')\n",
        "def home():\n",
        "    return \"Welcome Home\"\n",
        "\n",
        "@app.route('/profile/<username>')\n",
        "def profile(username):\n",
        "    return f\"Hello, {username}!\"\n",
        "\n",
        "with app.test_request_context():\n",
        "    print(url_for('home'))                      # Output: /home\n",
        "    print(url_for('profile', username='alice')) # Output: /profile/alice\n",
        "    print(url_for('profile', username='bob'))   # Output: /profile/bob"
      ],
      "metadata": {
        "colab": {
          "base_uri": "https://localhost:8080/"
        },
        "id": "jjennoY_JLQy",
        "outputId": "f446f13d-efc6-48de-d734-ec62058c9ea7"
      },
      "execution_count": 17,
      "outputs": [
        {
          "output_type": "stream",
          "name": "stdout",
          "text": [
            "/home\n",
            "/profile/alice\n",
            "/profile/bob\n"
          ]
        }
      ]
    },
    {
      "cell_type": "markdown",
      "source": [
        "6. How do you handle forms in Flask?"
      ],
      "metadata": {
        "id": "we3J_PizKDH9"
      }
    },
    {
      "cell_type": "code",
      "source": [
        "from flask import Flask, render_template, request\n",
        "\n",
        "app = Flask(__name__)\n",
        "\n",
        "@app.route('/')\n",
        "def index():\n",
        "    return render_template('form.html')\n",
        "if __name__ == '__main__':\n",
        "    app.run(debug=True)"
      ],
      "metadata": {
        "id": "A3mh4fWjJoic"
      },
      "execution_count": 18,
      "outputs": []
    },
    {
      "cell_type": "markdown",
      "source": [
        "7.  How can you validate form data in Flask?"
      ],
      "metadata": {
        "id": "WVvGDpQOKgyA"
      }
    },
    {
      "cell_type": "code",
      "source": [
        "from flask import Flask, request, render_template\n",
        "\n",
        "app = Flask(__name__)\n",
        "\n",
        "@app.route('/register', methods=['GET', 'POST'])\n",
        "def register():\n",
        "    error = None\n",
        "    if request.method == 'POST':\n",
        "        username = request.form['username']\n",
        "        email = request.form['email']\n",
        "\n",
        "        if not username or not email:\n",
        "            error = \"All fields are required.\"\n",
        "        elif '@' not in email:\n",
        "            error = \"Invalid email address.\"\n",
        "        else:\n",
        "            return f\"Welcome, {username}!\"\n",
        "\n",
        "    return render_template('register.html', error=error)"
      ],
      "metadata": {
        "id": "7shpGZOIKU-f"
      },
      "execution_count": 22,
      "outputs": []
    },
    {
      "cell_type": "markdown",
      "source": [
        "8. How do you manage sessions in Flask?"
      ],
      "metadata": {
        "id": "6-nag9ydLIyG"
      }
    },
    {
      "cell_type": "code",
      "source": [
        "from flask import Flask, session\n",
        "app = Flask(__name__)\n",
        "app.secret_key = 'your_secret_key'  # Required for sessions\n",
        "@app.route('/login')\n",
        "def login():\n",
        "    session['user'] = 'alice'\n",
        "    return 'User logged in'\n",
        "    @app.route('/protected')\n",
        "    def protected():\n",
        "        if 'user' in session:\n",
        "            return f'Welcome, {session[\"user\"]}!'\n",
        "        else:\n",
        "            return 'Access denied'\n",
        "        if __name__ == '__main__':\n",
        "            app.run(debug=True)"
      ],
      "metadata": {
        "id": "LPLpPhsIK1wW"
      },
      "execution_count": 30,
      "outputs": []
    },
    {
      "cell_type": "markdown",
      "source": [
        "9. How do you redirect to a different route in Flask?"
      ],
      "metadata": {
        "id": "qyClYxUvL2Dk"
      }
    },
    {
      "cell_type": "code",
      "source": [
        "from flask import Flask, redirect, url_for\n",
        "\n",
        "app = Flask(__name__)\n",
        "\n",
        "@app.route('/login')\n",
        "def login():\n",
        "    return redirect(url_for('home'))\n",
        "if __name__ == '__main__':\n",
        "    app.run(debug=True)\n",
        "    @app.route('/home')\n",
        "    def home():\n",
        "        return \"Welcome Home\"\n",
        "        @app.route('/profile/<username>')\n",
        "        def profile(username):\n",
        "            return f\"Hello, {username}!\"\n",
        "            with app.test_request_context():\n",
        "                print(url_for('home'))                      # Output: /home\n",
        "                print(url_for('profile', username='alice')) # Output: /profile/alice\n",
        "                print(url_for('profile', username='bob'))   # Output: /profile/bob\n",
        "                print(url_for('login'))                     # Output: /login\n",
        "                print(url_for('static', filename='style.css'))\n"
      ],
      "metadata": {
        "id": "ZgquphG8Lizf"
      },
      "execution_count": 33,
      "outputs": []
    },
    {
      "cell_type": "markdown",
      "source": [
        "10. How do you handle errors in Flask (e.g., 404)?"
      ],
      "metadata": {
        "id": "WnPp4fP3McEI"
      }
    },
    {
      "cell_type": "code",
      "source": [
        "from flask import Flask, render_template, abort\n",
        "\n",
        "app = Flask(__name__)\n",
        "\n",
        "@app.route('/')\n",
        "def index():\n",
        "    return \"Welcome to the Home Page\"\n",
        "    @app.route('/about')\n",
        "    def about():\n",
        "        return \"This is the About Page\"\n",
        "        @app.route('/user/<username>')\n",
        "        def user_profile(username):\n",
        "            return f\"Welcome, {username}!\"\n",
        "            @app.errorhandler(404)\n",
        "            def page_not_found(error):\n",
        "                return render_template('404.html'), 404\n",
        "                if __name__ == '__main__':\n",
        "                    app.run(debug=True)\n",
        "                    @app.errorhandler(404)\n",
        "                    def page_not_found(error):\n",
        "                        return render_template('404.html'), 404\n",
        "                        if __name__ == '__main__':\n",
        "                            app.run(debug=True)"
      ],
      "metadata": {
        "id": "teW4xZjoMGhH"
      },
      "execution_count": 34,
      "outputs": []
    },
    {
      "cell_type": "markdown",
      "source": [
        "11.  How do you structure a Flask app using Blueprints?"
      ],
      "metadata": {
        "id": "toV-Z_yTMstM"
      }
    },
    {
      "cell_type": "code",
      "source": [
        "from flask import Blueprint\n",
        "\n",
        "auth_bp = Blueprint('auth', __name__, url_prefix='/auth')\n",
        "\n",
        "@auth_bp.route('/login')\n",
        "def login():\n",
        "    return \"Login Page\"\n",
        "\n",
        "@auth_bp.route('/logout')\n",
        "def logout():\n",
        "    return \"Logout Page\"\n",
        "\n",
        "    from flask import Flask\n",
        "    from auth.routes import auth_bp  # Import the Blueprint\n",
        "\n",
        "app = Flask(__name__)\n",
        "app.register_blueprint(auth_bp)  # Register the Blueprint\n",
        "\n",
        "@app.route('/')\n",
        "def home():\n",
        "    return \"Home Page\"\n",
        "\n",
        "if __name__ == '__main__':\n",
        "    app.run(debug=True)"
      ],
      "metadata": {
        "id": "pmjQ0T8_Mn-X"
      },
      "execution_count": 42,
      "outputs": []
    },
    {
      "cell_type": "markdown",
      "source": [
        "12.  How do you define a custom Jinja filter in Flask?"
      ],
      "metadata": {
        "id": "h5jXiebLNwMN"
      }
    },
    {
      "cell_type": "code",
      "source": [
        "from flask import Flask\n",
        "\n",
        "app = Flask(__name__)\n",
        "\n",
        "# Define the custom filter\n",
        "def reverse_string(value):\n",
        "    return value[::-1]\n",
        "    # Register the filter with a name (e.g., 'reverse')\n",
        "app.jinja_env.filters['reverse'] = reverse_string\n",
        "from flask import render_template\n",
        "\n",
        "@app.route('/')\n",
        "def index():\n",
        "    return render_template('index.html', name='Flask')"
      ],
      "metadata": {
        "id": "HgZGbpEzRyu-"
      },
      "execution_count": 58,
      "outputs": []
    },
    {
      "cell_type": "markdown",
      "source": [
        "13.  How can you redirect with query parameters in Flask?"
      ],
      "metadata": {
        "id": "c4_bPV9POD1i"
      }
    },
    {
      "cell_type": "code",
      "source": [
        "from flask import Flask, redirect, url_for, request\n",
        "\n",
        "app = Flask(__name__)\n",
        "\n",
        "@app.route('/')\n",
        "def home():\n",
        "    return \"Home Page\"\n",
        "\n",
        "@app.route('/search')\n",
        "def search():\n",
        "    query = request.args.get('q')\n",
        "    return f\"Search results for: {query}\"\n",
        "\n",
        "@app.route('/go-to-search')\n",
        "def go_to_search():\n",
        "    return redirect(url_for('search', q='flask tutorial'))\n",
        "    return redirect(url_for('search', q='flask', page=2, sort='recent'))\n",
        "# Redirects to: /search?q=flask&page=2&sort=recent\n"
      ],
      "metadata": {
        "id": "zRMf-PKlOQNI"
      },
      "execution_count": 47,
      "outputs": []
    },
    {
      "cell_type": "markdown",
      "source": [
        "14. How do you return JSON responses in Flask?"
      ],
      "metadata": {
        "id": "VtDpMN7KO_oW"
      }
    },
    {
      "cell_type": "code",
      "source": [
        "from flask import Flask, jsonify\n",
        "\n",
        "app = Flask(__name__)\n",
        "\n",
        "@app.route('/api/data')\n",
        "def get_data():\n",
        "    data = {\n",
        "        \"name\": \"Flask\",\n",
        "        \"type\": \"web framework\",\n",
        "        \"version\": 2.3\n",
        "    }\n",
        "    return jsonify(data)\n",
        "{\n",
        "  \"name\": \"Flask\",\n",
        "  \"type\": \"web framework\",\n",
        "  \"version\": 2.3\n",
        "}\n",
        "@app.route('/api/items')\n",
        "def get_items():\n",
        "    items = [\"apple\", \"banana\", \"cherry\"]\n",
        "    return jsonify(items)\n",
        "    @app.route('/api/status')\n",
        "    def get_status():\n",
        "        status = {\n",
        "            \"status\": \"success\",\n",
        "            \"message\": \"Data retrieved successfully\"\n",
        "        }\n",
        "        return jsonify(status)\n",
        "        if __name__ == '__main__':\n",
        "            app.run(debug=True)\n",
        "            response.status_code = 201\n",
        "            response.headers['X-Custom-Header'] = 'Hello'\n",
        "        return response\n"
      ],
      "metadata": {
        "id": "Uf8UgsBkPVKu"
      },
      "execution_count": 56,
      "outputs": []
    },
    {
      "cell_type": "markdown",
      "source": [
        "15. How do you capture URL parameters in Flask?"
      ],
      "metadata": {
        "id": "f0wpbzRsQ7Dn"
      }
    },
    {
      "cell_type": "code",
      "source": [
        "from flask import Flask\n",
        "\n",
        "app = Flask(__name__)\n",
        "\n",
        "@app.route('/user/<username>')\n",
        "def show_user(username):\n",
        "    return f\"Hello, {username}!\"\n",
        "    @app.route('/post/<int:post_id>')\n",
        "    def show_post(post_id):\n",
        "     return f\"Post ID: {post_id}\""
      ],
      "metadata": {
        "id": "eznNU9NuP09m"
      },
      "execution_count": 57,
      "outputs": []
    }
  ]
}